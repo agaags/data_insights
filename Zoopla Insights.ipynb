{
 "cells": [
  {
   "cell_type": "code",
   "execution_count": 1,
   "id": "aba30f39-88dc-48a5-a510-285027f99206",
   "metadata": {},
   "outputs": [],
   "source": [
    "import pandas as pd "
   ]
  },
  {
   "cell_type": "markdown",
   "id": "14e18734",
   "metadata": {},
   "source": [
    "The purpose of this analysis is to compare prices of flats in London "
   ]
  },
  {
   "cell_type": "code",
   "execution_count": 7,
   "id": "64cba9ff-9bf5-44f5-9911-f45b558037c4",
   "metadata": {},
   "outputs": [],
   "source": [
    "df = pd.read_csv('zooplacouk_londonlistedproperties.csv', on_bad_lines='skip').reset_index()"
   ]
  },
  {
   "cell_type": "code",
   "execution_count": 28,
   "id": "8cadbb66-a574-4692-8653-c1a3bb010adb",
   "metadata": {},
   "outputs": [
    {
     "data": {
      "text/html": [
       "<div>\n",
       "<style scoped>\n",
       "    .dataframe tbody tr th:only-of-type {\n",
       "        vertical-align: middle;\n",
       "    }\n",
       "\n",
       "    .dataframe tbody tr th {\n",
       "        vertical-align: top;\n",
       "    }\n",
       "\n",
       "    .dataframe thead th {\n",
       "        text-align: right;\n",
       "    }\n",
       "</style>\n",
       "<table border=\"1\" class=\"dataframe\">\n",
       "  <thead>\n",
       "    <tr style=\"text-align: right;\">\n",
       "      <th></th>\n",
       "      <th>level_0</th>\n",
       "      <th>level_1</th>\n",
       "      <th>level_2</th>\n",
       "      <th>level_3</th>\n",
       "      <th>listing_link|listing_price_pcm|listing_price_perweek|bedroom|bathroom|livingroom|listing_title|location|nearby_stations|listed|agent|available</th>\n",
       "      <th>temp</th>\n",
       "    </tr>\n",
       "  </thead>\n",
       "  <tbody>\n",
       "    <tr>\n",
       "      <th>0</th>\n",
       "      <td>http://zoopla.co.uk//to-rent/details/55738240/...</td>\n",
       "      <td>058 pcm|£475 pw|1|1|0|1 bed flat to rent|Queen...</td>\n",
       "      <td>London SW7|0.3 miles Gloucester Road</td>\n",
       "      <td>0.4 miles South Kensington|4th jan 2023|Druce...</td>\n",
       "      <td>W8|</td>\n",
       "      <td>[058 pcm, £475 pw, 1, 1, 0, 1 bed flat to rent...</td>\n",
       "    </tr>\n",
       "    <tr>\n",
       "      <th>1</th>\n",
       "      <td>http://zoopla.co.uk//to-rent/details/63570064/...</td>\n",
       "      <td>297 pcm|£530 pw|2|2|0|2 bed flat to rent|The Pad</td>\n",
       "      <td>Highbury Corner</td>\n",
       "      <td>London N7|0.1 miles Highbury &amp; Islington|4th ...</td>\n",
       "      <td>N1|28th feb 2023</td>\n",
       "      <td>[297 pcm, £530 pw, 2, 2, 0, 2 bed flat to rent...</td>\n",
       "    </tr>\n",
       "    <tr>\n",
       "      <th>2</th>\n",
       "      <td>http://zoopla.co.uk//to-rent/details/63570050/...</td>\n",
       "      <td>025 pcm|£237 pw|0|1|0|Studio to rent|Oldfield ...</td>\n",
       "      <td>Greenford UB6|0.2 miles Greenford</td>\n",
       "      <td>0.1 miles Greenford|4th jan 2023|Foxtons - We...</td>\n",
       "      <td>HA9|</td>\n",
       "      <td>[025 pcm, £237 pw, 0, 1, 0, Studio to rent, Ol...</td>\n",
       "    </tr>\n",
       "    <tr>\n",
       "      <th>3</th>\n",
       "      <td>http://zoopla.co.uk//to-rent/details/63570035/...</td>\n",
       "      <td>850 pcm|£427 pw|2|2|0|2 bed flat to rent|Longc...</td>\n",
       "      <td>Edgware HA8|0.9 miles Stanmore</td>\n",
       "      <td>0.2 miles Canons Park|4th jan 2023|Foxtons - ...</td>\n",
       "      <td>HA7|</td>\n",
       "      <td>[850 pcm, £427 pw, 2, 2, 0, 2 bed flat to rent...</td>\n",
       "    </tr>\n",
       "    <tr>\n",
       "      <th>4</th>\n",
       "      <td>http://zoopla.co.uk//to-rent/details/51126600/...</td>\n",
       "      <td>550 pcm|£358 pw|2|1|0|2 bed flat to rent|Green...</td>\n",
       "      <td>Palmers N13|0.2 miles Palmers Green</td>\n",
       "      <td>0.9 miles Winchmore Hill|4th jan 2023|Anthony...</td>\n",
       "      <td>N13|27th feb 2023</td>\n",
       "      <td>[550 pcm, £358 pw, 2, 1, 0, 2 bed flat to rent...</td>\n",
       "    </tr>\n",
       "  </tbody>\n",
       "</table>\n",
       "</div>"
      ],
      "text/plain": [
       "                                             level_0  \\\n",
       "0  http://zoopla.co.uk//to-rent/details/55738240/...   \n",
       "1  http://zoopla.co.uk//to-rent/details/63570064/...   \n",
       "2  http://zoopla.co.uk//to-rent/details/63570050/...   \n",
       "3  http://zoopla.co.uk//to-rent/details/63570035/...   \n",
       "4  http://zoopla.co.uk//to-rent/details/51126600/...   \n",
       "\n",
       "                                             level_1  \\\n",
       "0  058 pcm|£475 pw|1|1|0|1 bed flat to rent|Queen...   \n",
       "1   297 pcm|£530 pw|2|2|0|2 bed flat to rent|The Pad   \n",
       "2  025 pcm|£237 pw|0|1|0|Studio to rent|Oldfield ...   \n",
       "3  850 pcm|£427 pw|2|2|0|2 bed flat to rent|Longc...   \n",
       "4  550 pcm|£358 pw|2|1|0|2 bed flat to rent|Green...   \n",
       "\n",
       "                                 level_2  \\\n",
       "0   London SW7|0.3 miles Gloucester Road   \n",
       "1                        Highbury Corner   \n",
       "2      Greenford UB6|0.2 miles Greenford   \n",
       "3         Edgware HA8|0.9 miles Stanmore   \n",
       "4    Palmers N13|0.2 miles Palmers Green   \n",
       "\n",
       "                                             level_3  \\\n",
       "0   0.4 miles South Kensington|4th jan 2023|Druce...   \n",
       "1   London N7|0.1 miles Highbury & Islington|4th ...   \n",
       "2   0.1 miles Greenford|4th jan 2023|Foxtons - We...   \n",
       "3   0.2 miles Canons Park|4th jan 2023|Foxtons - ...   \n",
       "4   0.9 miles Winchmore Hill|4th jan 2023|Anthony...   \n",
       "\n",
       "  listing_link|listing_price_pcm|listing_price_perweek|bedroom|bathroom|livingroom|listing_title|location|nearby_stations|listed|agent|available  \\\n",
       "0                                                W8|                                                                                               \n",
       "1                                   N1|28th feb 2023                                                                                               \n",
       "2                                               HA9|                                                                                               \n",
       "3                                               HA7|                                                                                               \n",
       "4                                  N13|27th feb 2023                                                                                               \n",
       "\n",
       "                                                temp  \n",
       "0  [058 pcm, £475 pw, 1, 1, 0, 1 bed flat to rent...  \n",
       "1  [297 pcm, £530 pw, 2, 2, 0, 2 bed flat to rent...  \n",
       "2  [025 pcm, £237 pw, 0, 1, 0, Studio to rent, Ol...  \n",
       "3  [850 pcm, £427 pw, 2, 2, 0, 2 bed flat to rent...  \n",
       "4  [550 pcm, £358 pw, 2, 1, 0, 2 bed flat to rent...  "
      ]
     },
     "execution_count": 28,
     "metadata": {},
     "output_type": "execute_result"
    }
   ],
   "source": [
    "df.head()"
   ]
  },
  {
   "cell_type": "code",
   "execution_count": 23,
   "id": "418a6f21",
   "metadata": {},
   "outputs": [],
   "source": [
    "def splitting(string, delimiter='|'):\n",
    "    return string.split(delimiter)"
   ]
  },
  {
   "cell_type": "code",
   "execution_count": 26,
   "id": "0eb634ed",
   "metadata": {},
   "outputs": [],
   "source": [
    "df['temp'] = df['level_1'].apply(splitting)"
   ]
  },
  {
   "cell_type": "code",
   "execution_count": 27,
   "id": "e3aedd07",
   "metadata": {},
   "outputs": [
    {
     "data": {
      "text/plain": [
       "0      [058 pcm, £475 pw, 1, 1, 0, 1 bed flat to rent...\n",
       "1      [297 pcm, £530 pw, 2, 2, 0, 2 bed flat to rent...\n",
       "2      [025 pcm, £237 pw, 0, 1, 0, Studio to rent, Ol...\n",
       "3      [850 pcm, £427 pw, 2, 2, 0, 2 bed flat to rent...\n",
       "4      [550 pcm, £358 pw, 2, 1, 0, 2 bed flat to rent...\n",
       "                             ...                        \n",
       "573    [250 pcm, £288 pw, 1, 1, 0, 1 bed flat to rent...\n",
       "574    [225 pcm, £975 pw, 2, 1, 0, 2 bed flat to rent...\n",
       "575    [200 pcm, £508 pw, 1, 1, 0, 1 bed cottage to r...\n",
       "576    [142 pcm, £725 pw, 2, 1, 0, 2 bed flat to rent...\n",
       "577    [200 pcm, £277 pw, 1, 1, 0, 1 bed flat to rent...\n",
       "Name: temp, Length: 578, dtype: object"
      ]
     },
     "execution_count": 27,
     "metadata": {},
     "output_type": "execute_result"
    }
   ],
   "source": [
    "df['temp']"
   ]
  },
  {
   "cell_type": "code",
   "execution_count": 34,
   "id": "c44efca2",
   "metadata": {},
   "outputs": [],
   "source": [
    "def parse_rent_pcm(x):\n",
    "    try:\n",
    "        return float(x[0].replace(\" pcm\",\"\"))\n",
    "    except:\n",
    "        return None"
   ]
  },
  {
   "cell_type": "code",
   "execution_count": 35,
   "id": "b5e41521",
   "metadata": {},
   "outputs": [],
   "source": [
    "df['rent_pcm'] = df['temp'].apply(lambda x:parse_rent_pcm(x))"
   ]
  },
  {
   "cell_type": "code",
   "execution_count": 38,
   "id": "808d9395",
   "metadata": {},
   "outputs": [],
   "source": [
    "def parse_rent_pw(x):\n",
    "    try:\n",
    "        stripped_text = x[1].replace(\" pw\",\"\").replace(\"£\",\"\")\n",
    "        return float(stripped_text)\n",
    "    except:\n",
    "        return None"
   ]
  },
  {
   "cell_type": "code",
   "execution_count": 39,
   "id": "450ef211",
   "metadata": {},
   "outputs": [],
   "source": [
    "df['rent_pw'] = df['temp'].apply(lambda x:parse_rent_pw(x))"
   ]
  },
  {
   "cell_type": "code",
   "execution_count": 44,
   "id": "d128a288",
   "metadata": {},
   "outputs": [],
   "source": [
    "def parse_room_nu(x,idx):\n",
    "    try:\n",
    "        stripped_text = x[idx]\n",
    "        return int(stripped_text)\n",
    "    except:\n",
    "        return None\n"
   ]
  },
  {
   "cell_type": "code",
   "execution_count": 45,
   "id": "3db38026",
   "metadata": {},
   "outputs": [],
   "source": [
    "df['bedroom'] = df['temp'].apply(lambda x:parse_room_nu(x,2))"
   ]
  },
  {
   "cell_type": "code",
   "execution_count": 46,
   "id": "2f70ddfc",
   "metadata": {},
   "outputs": [],
   "source": [
    "df['bathroom'] = df['temp'].apply(lambda x:parse_room_nu(x,3))"
   ]
  },
  {
   "cell_type": "code",
   "execution_count": 47,
   "id": "f1388e7c",
   "metadata": {},
   "outputs": [],
   "source": [
    "df['living_room'] = df['temp'].apply(lambda x:parse_room_nu(x,4))"
   ]
  },
  {
   "cell_type": "code",
   "execution_count": 51,
   "id": "977668a9",
   "metadata": {},
   "outputs": [
    {
     "name": "stdout",
     "output_type": "stream",
     "text": [
      "<class 'pandas.core.frame.DataFrame'>\n",
      "Int64Index: 485 entries, 0 to 577\n",
      "Data columns (total 11 columns):\n",
      " #   Column                                                                                                                                          Non-Null Count  Dtype  \n",
      "---  ------                                                                                                                                          --------------  -----  \n",
      " 0   level_0                                                                                                                                         485 non-null    object \n",
      " 1   level_1                                                                                                                                         485 non-null    object \n",
      " 2   level_2                                                                                                                                         485 non-null    object \n",
      " 3   level_3                                                                                                                                         485 non-null    object \n",
      " 4   listing_link|listing_price_pcm|listing_price_perweek|bedroom|bathroom|livingroom|listing_title|location|nearby_stations|listed|agent|available  485 non-null    object \n",
      " 5   temp                                                                                                                                            485 non-null    object \n",
      " 6   rent_pcm                                                                                                                                        485 non-null    float64\n",
      " 7   rent_pw                                                                                                                                         485 non-null    float64\n",
      " 8   bedroom                                                                                                                                         485 non-null    float64\n",
      " 9   bathroom                                                                                                                                        485 non-null    float64\n",
      " 10  living_room                                                                                                                                     485 non-null    float64\n",
      "dtypes: float64(5), object(6)\n",
      "memory usage: 45.5+ KB\n"
     ]
    }
   ],
   "source": [
    "df.info()"
   ]
  },
  {
   "cell_type": "code",
   "execution_count": 50,
   "id": "4b55128d",
   "metadata": {},
   "outputs": [],
   "source": [
    "# dropping missing values\n",
    "df=df.dropna()"
   ]
  },
  {
   "cell_type": "code",
   "execution_count": 52,
   "id": "db1a5d8e",
   "metadata": {},
   "outputs": [
    {
     "data": {
      "text/plain": [
       "Index(['level_0', 'level_1', 'level_2', 'level_3',\n",
       "       'listing_link|listing_price_pcm|listing_price_perweek|bedroom|bathroom|livingroom|listing_title|location|nearby_stations|listed|agent|available',\n",
       "       'temp', 'rent_pcm', 'rent_pw', 'bedroom', 'bathroom', 'living_room'],\n",
       "      dtype='object')"
      ]
     },
     "execution_count": 52,
     "metadata": {},
     "output_type": "execute_result"
    }
   ],
   "source": [
    "df.columns"
   ]
  },
  {
   "cell_type": "code",
   "execution_count": 54,
   "id": "d416c525",
   "metadata": {},
   "outputs": [
    {
     "name": "stderr",
     "output_type": "stream",
     "text": [
      "C:\\Users\\agasm\\AppData\\Local\\Temp\\ipykernel_25460\\1311774801.py:1: FutureWarning: The default value of numeric_only in DataFrameGroupBy.mean is deprecated. In a future version, numeric_only will default to False. Either specify numeric_only or select only columns which should be valid for the function.\n",
      "  df.groupby(by='bedroom').mean()\n"
     ]
    },
    {
     "data": {
      "text/html": [
       "<div>\n",
       "<style scoped>\n",
       "    .dataframe tbody tr th:only-of-type {\n",
       "        vertical-align: middle;\n",
       "    }\n",
       "\n",
       "    .dataframe tbody tr th {\n",
       "        vertical-align: top;\n",
       "    }\n",
       "\n",
       "    .dataframe thead th {\n",
       "        text-align: right;\n",
       "    }\n",
       "</style>\n",
       "<table border=\"1\" class=\"dataframe\">\n",
       "  <thead>\n",
       "    <tr style=\"text-align: right;\">\n",
       "      <th></th>\n",
       "      <th>rent_pcm</th>\n",
       "      <th>rent_pw</th>\n",
       "      <th>bathroom</th>\n",
       "      <th>living_room</th>\n",
       "    </tr>\n",
       "    <tr>\n",
       "      <th>bedroom</th>\n",
       "      <th></th>\n",
       "      <th></th>\n",
       "      <th></th>\n",
       "      <th></th>\n",
       "    </tr>\n",
       "  </thead>\n",
       "  <tbody>\n",
       "    <tr>\n",
       "      <th>0.0</th>\n",
       "      <td>315.666667</td>\n",
       "      <td>353.000000</td>\n",
       "      <td>0.880952</td>\n",
       "      <td>0.0</td>\n",
       "    </tr>\n",
       "    <tr>\n",
       "      <th>1.0</th>\n",
       "      <td>434.510870</td>\n",
       "      <td>442.657609</td>\n",
       "      <td>0.978261</td>\n",
       "      <td>0.0</td>\n",
       "    </tr>\n",
       "    <tr>\n",
       "      <th>2.0</th>\n",
       "      <td>480.217143</td>\n",
       "      <td>536.754286</td>\n",
       "      <td>1.394286</td>\n",
       "      <td>0.0</td>\n",
       "    </tr>\n",
       "    <tr>\n",
       "      <th>3.0</th>\n",
       "      <td>493.424242</td>\n",
       "      <td>589.378788</td>\n",
       "      <td>1.500000</td>\n",
       "      <td>0.0</td>\n",
       "    </tr>\n",
       "    <tr>\n",
       "      <th>4.0</th>\n",
       "      <td>481.923077</td>\n",
       "      <td>626.153846</td>\n",
       "      <td>1.769231</td>\n",
       "      <td>0.0</td>\n",
       "    </tr>\n",
       "    <tr>\n",
       "      <th>5.0</th>\n",
       "      <td>449.000000</td>\n",
       "      <td>703.600000</td>\n",
       "      <td>2.200000</td>\n",
       "      <td>0.0</td>\n",
       "    </tr>\n",
       "  </tbody>\n",
       "</table>\n",
       "</div>"
      ],
      "text/plain": [
       "           rent_pcm     rent_pw  bathroom  living_room\n",
       "bedroom                                               \n",
       "0.0      315.666667  353.000000  0.880952          0.0\n",
       "1.0      434.510870  442.657609  0.978261          0.0\n",
       "2.0      480.217143  536.754286  1.394286          0.0\n",
       "3.0      493.424242  589.378788  1.500000          0.0\n",
       "4.0      481.923077  626.153846  1.769231          0.0\n",
       "5.0      449.000000  703.600000  2.200000          0.0"
      ]
     },
     "execution_count": 54,
     "metadata": {},
     "output_type": "execute_result"
    }
   ],
   "source": [
    "df.groupby(by='bedroom').mean()"
   ]
  },
  {
   "cell_type": "code",
   "execution_count": 72,
   "id": "7452ce7b",
   "metadata": {},
   "outputs": [],
   "source": [
    "def filter_by_station(df, station_name):\n",
    "    return df[df['level_1'].str.contains(station_name)| (df['level_2'].str.contains(station_name)) ]"
   ]
  },
  {
   "cell_type": "code",
   "execution_count": 76,
   "id": "aedd224c",
   "metadata": {},
   "outputs": [
    {
     "data": {
      "text/plain": [
       "409.0"
      ]
     },
     "execution_count": 76,
     "metadata": {},
     "output_type": "execute_result"
    }
   ],
   "source": [
    "filter_by_station(df, \"Finsbury Park\")['rent_pw'].mean()"
   ]
  },
  {
   "cell_type": "code",
   "execution_count": null,
   "id": "73b46429",
   "metadata": {},
   "outputs": [],
   "source": []
  }
 ],
 "metadata": {
  "kernelspec": {
   "display_name": "ags",
   "language": "python",
   "name": "ags"
  },
  "language_info": {
   "codemirror_mode": {
    "name": "ipython",
    "version": 3
   },
   "file_extension": ".py",
   "mimetype": "text/x-python",
   "name": "python",
   "nbconvert_exporter": "python",
   "pygments_lexer": "ipython3",
   "version": "3.11.3"
  }
 },
 "nbformat": 4,
 "nbformat_minor": 5
}
